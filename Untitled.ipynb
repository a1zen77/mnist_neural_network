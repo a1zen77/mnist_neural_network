{
 "cells": [
  {
   "cell_type": "code",
   "execution_count": 1,
   "id": "6e275f97-cbc8-4296-b036-66f012451e61",
   "metadata": {},
   "outputs": [],
   "source": [
    "import numpy as np\n",
    "import pandas as pd\n",
    "import matplotlib.pyplot as plt"
   ]
  },
  {
   "cell_type": "code",
   "execution_count": 2,
   "id": "2eff17a2-076a-49b4-b5ec-3c086de5c5ff",
   "metadata": {},
   "outputs": [],
   "source": [
    "df = pd.read_csv('train.csv')"
   ]
  },
  {
   "cell_type": "code",
   "execution_count": 3,
   "id": "602de580-6c53-403a-a8de-1c2461ce8cee",
   "metadata": {},
   "outputs": [
    {
     "data": {
      "text/html": [
       "<div>\n",
       "<style scoped>\n",
       "    .dataframe tbody tr th:only-of-type {\n",
       "        vertical-align: middle;\n",
       "    }\n",
       "\n",
       "    .dataframe tbody tr th {\n",
       "        vertical-align: top;\n",
       "    }\n",
       "\n",
       "    .dataframe thead th {\n",
       "        text-align: right;\n",
       "    }\n",
       "</style>\n",
       "<table border=\"1\" class=\"dataframe\">\n",
       "  <thead>\n",
       "    <tr style=\"text-align: right;\">\n",
       "      <th></th>\n",
       "      <th>label</th>\n",
       "      <th>pixel0</th>\n",
       "      <th>pixel1</th>\n",
       "      <th>pixel2</th>\n",
       "      <th>pixel3</th>\n",
       "      <th>pixel4</th>\n",
       "      <th>pixel5</th>\n",
       "      <th>pixel6</th>\n",
       "      <th>pixel7</th>\n",
       "      <th>pixel8</th>\n",
       "      <th>...</th>\n",
       "      <th>pixel774</th>\n",
       "      <th>pixel775</th>\n",
       "      <th>pixel776</th>\n",
       "      <th>pixel777</th>\n",
       "      <th>pixel778</th>\n",
       "      <th>pixel779</th>\n",
       "      <th>pixel780</th>\n",
       "      <th>pixel781</th>\n",
       "      <th>pixel782</th>\n",
       "      <th>pixel783</th>\n",
       "    </tr>\n",
       "  </thead>\n",
       "  <tbody>\n",
       "    <tr>\n",
       "      <th>0</th>\n",
       "      <td>1</td>\n",
       "      <td>0</td>\n",
       "      <td>0</td>\n",
       "      <td>0</td>\n",
       "      <td>0</td>\n",
       "      <td>0</td>\n",
       "      <td>0</td>\n",
       "      <td>0</td>\n",
       "      <td>0</td>\n",
       "      <td>0</td>\n",
       "      <td>...</td>\n",
       "      <td>0</td>\n",
       "      <td>0</td>\n",
       "      <td>0</td>\n",
       "      <td>0</td>\n",
       "      <td>0</td>\n",
       "      <td>0</td>\n",
       "      <td>0</td>\n",
       "      <td>0</td>\n",
       "      <td>0</td>\n",
       "      <td>0</td>\n",
       "    </tr>\n",
       "    <tr>\n",
       "      <th>1</th>\n",
       "      <td>0</td>\n",
       "      <td>0</td>\n",
       "      <td>0</td>\n",
       "      <td>0</td>\n",
       "      <td>0</td>\n",
       "      <td>0</td>\n",
       "      <td>0</td>\n",
       "      <td>0</td>\n",
       "      <td>0</td>\n",
       "      <td>0</td>\n",
       "      <td>...</td>\n",
       "      <td>0</td>\n",
       "      <td>0</td>\n",
       "      <td>0</td>\n",
       "      <td>0</td>\n",
       "      <td>0</td>\n",
       "      <td>0</td>\n",
       "      <td>0</td>\n",
       "      <td>0</td>\n",
       "      <td>0</td>\n",
       "      <td>0</td>\n",
       "    </tr>\n",
       "    <tr>\n",
       "      <th>2</th>\n",
       "      <td>1</td>\n",
       "      <td>0</td>\n",
       "      <td>0</td>\n",
       "      <td>0</td>\n",
       "      <td>0</td>\n",
       "      <td>0</td>\n",
       "      <td>0</td>\n",
       "      <td>0</td>\n",
       "      <td>0</td>\n",
       "      <td>0</td>\n",
       "      <td>...</td>\n",
       "      <td>0</td>\n",
       "      <td>0</td>\n",
       "      <td>0</td>\n",
       "      <td>0</td>\n",
       "      <td>0</td>\n",
       "      <td>0</td>\n",
       "      <td>0</td>\n",
       "      <td>0</td>\n",
       "      <td>0</td>\n",
       "      <td>0</td>\n",
       "    </tr>\n",
       "    <tr>\n",
       "      <th>3</th>\n",
       "      <td>4</td>\n",
       "      <td>0</td>\n",
       "      <td>0</td>\n",
       "      <td>0</td>\n",
       "      <td>0</td>\n",
       "      <td>0</td>\n",
       "      <td>0</td>\n",
       "      <td>0</td>\n",
       "      <td>0</td>\n",
       "      <td>0</td>\n",
       "      <td>...</td>\n",
       "      <td>0</td>\n",
       "      <td>0</td>\n",
       "      <td>0</td>\n",
       "      <td>0</td>\n",
       "      <td>0</td>\n",
       "      <td>0</td>\n",
       "      <td>0</td>\n",
       "      <td>0</td>\n",
       "      <td>0</td>\n",
       "      <td>0</td>\n",
       "    </tr>\n",
       "    <tr>\n",
       "      <th>4</th>\n",
       "      <td>0</td>\n",
       "      <td>0</td>\n",
       "      <td>0</td>\n",
       "      <td>0</td>\n",
       "      <td>0</td>\n",
       "      <td>0</td>\n",
       "      <td>0</td>\n",
       "      <td>0</td>\n",
       "      <td>0</td>\n",
       "      <td>0</td>\n",
       "      <td>...</td>\n",
       "      <td>0</td>\n",
       "      <td>0</td>\n",
       "      <td>0</td>\n",
       "      <td>0</td>\n",
       "      <td>0</td>\n",
       "      <td>0</td>\n",
       "      <td>0</td>\n",
       "      <td>0</td>\n",
       "      <td>0</td>\n",
       "      <td>0</td>\n",
       "    </tr>\n",
       "  </tbody>\n",
       "</table>\n",
       "<p>5 rows × 785 columns</p>\n",
       "</div>"
      ],
      "text/plain": [
       "   label  pixel0  pixel1  pixel2  pixel3  pixel4  pixel5  pixel6  pixel7  \\\n",
       "0      1       0       0       0       0       0       0       0       0   \n",
       "1      0       0       0       0       0       0       0       0       0   \n",
       "2      1       0       0       0       0       0       0       0       0   \n",
       "3      4       0       0       0       0       0       0       0       0   \n",
       "4      0       0       0       0       0       0       0       0       0   \n",
       "\n",
       "   pixel8  ...  pixel774  pixel775  pixel776  pixel777  pixel778  pixel779  \\\n",
       "0       0  ...         0         0         0         0         0         0   \n",
       "1       0  ...         0         0         0         0         0         0   \n",
       "2       0  ...         0         0         0         0         0         0   \n",
       "3       0  ...         0         0         0         0         0         0   \n",
       "4       0  ...         0         0         0         0         0         0   \n",
       "\n",
       "   pixel780  pixel781  pixel782  pixel783  \n",
       "0         0         0         0         0  \n",
       "1         0         0         0         0  \n",
       "2         0         0         0         0  \n",
       "3         0         0         0         0  \n",
       "4         0         0         0         0  \n",
       "\n",
       "[5 rows x 785 columns]"
      ]
     },
     "execution_count": 3,
     "metadata": {},
     "output_type": "execute_result"
    }
   ],
   "source": [
    "df.head()"
   ]
  },
  {
   "cell_type": "code",
   "execution_count": 4,
   "id": "f1639218-9e43-4f57-a69b-69506cb284b2",
   "metadata": {},
   "outputs": [
    {
     "data": {
      "text/plain": [
       "(42000, 785)"
      ]
     },
     "execution_count": 4,
     "metadata": {},
     "output_type": "execute_result"
    }
   ],
   "source": [
    "df.shape"
   ]
  },
  {
   "cell_type": "code",
   "execution_count": 5,
   "id": "e42a2649-1efc-4aa5-ae91-4b0f00cdd811",
   "metadata": {},
   "outputs": [],
   "source": [
    "df = np.array(df)\n",
    "m, n = df.shape\n",
    "np.random.shuffle(df)"
   ]
  },
  {
   "cell_type": "code",
   "execution_count": 6,
   "id": "e6d22342-789b-4947-8e34-2e8f975f55b8",
   "metadata": {},
   "outputs": [
    {
     "name": "stdout",
     "output_type": "stream",
     "text": [
      "42000 785\n"
     ]
    }
   ],
   "source": [
    "print(m, n)"
   ]
  },
  {
   "cell_type": "code",
   "execution_count": 7,
   "id": "b2ac5f34-017d-4119-92cd-b3939138ec6b",
   "metadata": {},
   "outputs": [],
   "source": [
    "train_data = df[0:int(0.8*m), :]\n",
    "val_data = df[int(0.8*m):m, :]\n",
    "\n",
    "X_train = train_data[:, 1:].T\n",
    "X_train = X_train / 255.0\n",
    "y_train = train_data[:, 0]\n",
    "\n",
    "X_val = val_data[:, 1:].T\n",
    "X_val = X_val / 255.0\n",
    "y_val = val_data[:, 0]"
   ]
  },
  {
   "cell_type": "code",
   "execution_count": 8,
   "id": "8cc9f385-2d84-42b8-880c-3059445d9242",
   "metadata": {},
   "outputs": [
    {
     "name": "stdout",
     "output_type": "stream",
     "text": [
      "(784, 8400)\n",
      "(8400,)\n",
      "(784, 33600)\n",
      "(33600,)\n"
     ]
    }
   ],
   "source": [
    "print(X_val.shape)\n",
    "print(y_val.shape)\n",
    "print(X_train.shape)\n",
    "print(y_train.shape)"
   ]
  },
  {
   "cell_type": "code",
   "execution_count": 9,
   "id": "1011f535-0f72-4391-b78f-d88379824e8d",
   "metadata": {},
   "outputs": [],
   "source": [
    "def initialize_parameters():\n",
    "  W1 = np.random.rand(10, 784) - 0.5\n",
    "  B1 = np.random.rand(10, 1) - 0.5\n",
    "  W2 = np.random.rand(10, 10) - 0.5\n",
    "  B2 = np.random.rand(10, 1) - 0.5\n",
    "  return W1, B1, W2, B2\n",
    "\n",
    "def ReLU(X):\n",
    "  return np.maximum(X, 0)\n",
    "\n",
    "def softmax_calculator(Z):\n",
    "  return np.exp(Z) / sum(np.exp(Z))\n",
    "\n",
    "def forward_propagation(W1, B1, W2, B2, X):\n",
    "  Z1 = W1.dot(X) + B1\n",
    "  A1 = ReLU(Z1)\n",
    "  Z2 = W2.dot(A1) + B2\n",
    "  A2 = softmax_calculator(Z2)\n",
    "  return Z1, A1, Z2, A2\n",
    "\n",
    "def one_hot_converter(Y):\n",
    "  one_hot_Y = np.zeros((Y.size, Y.max() + 1))\n",
    "  one_hot_Y[np.arange(Y.size), Y] = 1\n",
    "  return one_hot_Y.T\n",
    "\n",
    "def backward_propagation(W1, B1, W2, B2, Z1, A1, Z2, A2, X, Y):\n",
    "  one_hot_Y = one_hot_converter(Y)\n",
    "  dZ2 = A2 - one_hot_Y\n",
    "  dW2 = 1 / m * dZ2.dot(A1.T)\n",
    "  dB2 = 1 / m * np.sum(dZ2)\n",
    "  dZ1 = W2.T.dot(dZ2) * (Z1 > 0)\n",
    "  dW1 = 1 / m * dZ1.dot(X.T)\n",
    "  dB1 = 1 / m * np.sum(dZ1)\n",
    "  return dW1, dB1, dW2, dB2\n",
    "\n",
    "def update_parameters(W1, B1, W2, B2, dW1, dB1, dW2, dB2, learning_rate):\n",
    "  W1 = W1 - learning_rate * dW1\n",
    "  B1 = B1 - learning_rate * dB1\n",
    "  W2 = W2 - learning_rate * dW2\n",
    "  B2 = B2 - learning_rate * dB2\n",
    "  return W1, B1, W2, B2\n",
    "\n",
    "def get_predictions(A2):\n",
    "  return np.argmax(A2, 0)\n",
    "\n",
    "def get_accuracy(predictions, Y):\n",
    "  return np.sum(predictions == Y) / Y.size\n",
    "\n",
    "def gradient_descent(X, Y, alpha, iterations):\n",
    "  W1, B1, W2, B2 = initialize_parameters()\n",
    "\n",
    "  for i in range(iterations):\n",
    "    Z1, A1, Z2, A2 = forward_propagation(W1, B1, W2, B2, X)\n",
    "    dW1, dB1, dW2, dB2 = backward_propagation(W1, B1, W2, B2, Z1, A1, Z2, A2, X, Y)\n",
    "    W1, B1, W2, B2 = update_parameters(W1, B1, W2, B2, dW1, dB1, dW2, dB2, alpha)\n",
    "\n",
    "    if (i%20)==0:\n",
    "      print(\"Iteration number: \", i)\n",
    "      print(\"Accuracy = \", get_accuracy(get_predictions(A2), Y))\n",
    "  return W1, B1, W2, B2"
   ]
  },
  {
   "cell_type": "code",
   "execution_count": 10,
   "id": "8f978d73-2e61-44ce-9404-ac8af739eba7",
   "metadata": {},
   "outputs": [
    {
     "name": "stdout",
     "output_type": "stream",
     "text": [
      "Iteration number:  0\n",
      "Accuracy =  0.07949404761904762\n",
      "Iteration number:  20\n",
      "Accuracy =  0.2143452380952381\n",
      "Iteration number:  40\n",
      "Accuracy =  0.29833333333333334\n",
      "Iteration number:  60\n",
      "Accuracy =  0.3964285714285714\n",
      "Iteration number:  80\n",
      "Accuracy =  0.4683333333333333\n",
      "Iteration number:  100\n",
      "Accuracy =  0.5432440476190477\n",
      "Iteration number:  120\n",
      "Accuracy =  0.5986607142857143\n",
      "Iteration number:  140\n",
      "Accuracy =  0.6383928571428571\n",
      "Iteration number:  160\n",
      "Accuracy =  0.6701488095238095\n",
      "Iteration number:  180\n",
      "Accuracy =  0.6970833333333334\n",
      "Iteration number:  200\n",
      "Accuracy =  0.7183630952380953\n",
      "Iteration number:  220\n",
      "Accuracy =  0.7346130952380953\n",
      "Iteration number:  240\n",
      "Accuracy =  0.7499107142857143\n",
      "Iteration number:  260\n",
      "Accuracy =  0.7607440476190476\n",
      "Iteration number:  280\n",
      "Accuracy =  0.770625\n",
      "Iteration number:  300\n",
      "Accuracy =  0.7798809523809523\n",
      "Iteration number:  320\n",
      "Accuracy =  0.788125\n",
      "Iteration number:  340\n",
      "Accuracy =  0.7944642857142857\n",
      "Iteration number:  360\n",
      "Accuracy =  0.8011904761904762\n",
      "Iteration number:  380\n",
      "Accuracy =  0.8069642857142857\n",
      "Iteration number:  400\n",
      "Accuracy =  0.81125\n",
      "Iteration number:  420\n",
      "Accuracy =  0.8164880952380953\n",
      "Iteration number:  440\n",
      "Accuracy =  0.8212202380952381\n",
      "Iteration number:  460\n",
      "Accuracy =  0.825\n",
      "Iteration number:  480\n",
      "Accuracy =  0.8288690476190477\n",
      "Iteration number:  500\n",
      "Accuracy =  0.8319642857142857\n",
      "Iteration number:  520\n",
      "Accuracy =  0.835\n",
      "Iteration number:  540\n",
      "Accuracy =  0.8374107142857142\n",
      "Iteration number:  560\n",
      "Accuracy =  0.8401785714285714\n",
      "Iteration number:  580\n",
      "Accuracy =  0.8422321428571429\n",
      "Iteration number:  600\n",
      "Accuracy =  0.8447321428571428\n",
      "Iteration number:  620\n",
      "Accuracy =  0.846875\n",
      "Iteration number:  640\n",
      "Accuracy =  0.8488690476190476\n",
      "Iteration number:  660\n",
      "Accuracy =  0.8505952380952381\n",
      "Iteration number:  680\n",
      "Accuracy =  0.8525892857142857\n",
      "Iteration number:  700\n",
      "Accuracy =  0.8538988095238095\n",
      "Iteration number:  720\n",
      "Accuracy =  0.8550297619047619\n",
      "Iteration number:  740\n",
      "Accuracy =  0.8565178571428571\n",
      "Iteration number:  760\n",
      "Accuracy =  0.8580357142857142\n",
      "Iteration number:  780\n",
      "Accuracy =  0.8592857142857143\n",
      "Iteration number:  800\n",
      "Accuracy =  0.8606547619047619\n",
      "Iteration number:  820\n",
      "Accuracy =  0.8620833333333333\n",
      "Iteration number:  840\n",
      "Accuracy =  0.8634226190476191\n",
      "Iteration number:  860\n",
      "Accuracy =  0.8648809523809524\n",
      "Iteration number:  880\n",
      "Accuracy =  0.8657142857142858\n",
      "Iteration number:  900\n",
      "Accuracy =  0.8669642857142857\n",
      "Iteration number:  920\n",
      "Accuracy =  0.8679761904761905\n",
      "Iteration number:  940\n",
      "Accuracy =  0.86875\n",
      "Iteration number:  960\n",
      "Accuracy =  0.8697916666666666\n",
      "Iteration number:  980\n",
      "Accuracy =  0.8704166666666666\n"
     ]
    }
   ],
   "source": [
    "W1, B1, W2, B2 = gradient_descent(X_train, y_train, 0.1, 1000)"
   ]
  },
  {
   "cell_type": "code",
   "execution_count": 11,
   "id": "a8f8a6b8-ed21-435d-beb3-a9942e26191c",
   "metadata": {
    "scrolled": true
   },
   "outputs": [
    {
     "name": "stdout",
     "output_type": "stream",
     "text": [
      "Predicted label:  [9]\n",
      "Actual label:  9\n"
     ]
    },
    {
     "data": {
      "image/png": "[encoded data removed]",
      "text/plain": [
       "<Figure size 640x480 with 1 Axes>"
      ]
     },
     "metadata": {},
     "output_type": "display_data"
    }
   ],
   "source": [
    "val_index = 69\n",
    "Z1val, A1val, Z2val, A2val = forward_propagation(W1, B1, W2, B2, X_val[:, val_index, None])\n",
    "print(\"Predicted label: \", get_predictions(A2val))\n",
    "print(\"Actual label: \", y_val[val_index])\n",
    "\n",
    "image_array = X_val[:,val_index].reshape(28,28)\n",
    "plt.imshow(image_array, cmap='gray')\n",
    "plt.show()"
   ]
  },
  {
   "cell_type": "code",
   "execution_count": 12,
   "id": "ad7a0ea7-9552-4cce-b568-c7dbac8c247c",
   "metadata": {},
   "outputs": [
    {
     "name": "stdout",
     "output_type": "stream",
     "text": [
      "Validation accuracy =  0.8685714285714285\n"
     ]
    }
   ],
   "source": [
    "Z1val, A1val, Z2val, A2val = forward_propagation(W1, B1, W2, B2, X_val)\n",
    "val_acc = get_accuracy(get_predictions(A2val), y_val)\n",
    "print(\"Validation accuracy = \", val_acc)"
   ]
  },
  {
   "cell_type": "code",
   "execution_count": 26,
   "id": "69c2d128-7fc1-4108-a167-12341f5105e8",
   "metadata": {},
   "outputs": [],
   "source": [
    "np.savez('trained_weights.npz', W1=W1, B1=B1, W2=W2, B2=B2)"
   ]
  },
  {
   "cell_type": "code",
   "execution_count": null,
   "id": "405f512c-3588-4078-9620-cdc6202f5f1e",
   "metadata": {},
   "outputs": [],
   "source": []
  }
 ],
 "metadata": {
  "kernelspec": {
   "display_name": "Python 3 (ipykernel)",
   "language": "python",
   "name": "python3"
  },
  "language_info": {
   "codemirror_mode": {
    "name": "ipython",
    "version": 3
   },
   "file_extension": ".py",
   "mimetype": "text/x-python",
   "name": "python",
   "nbconvert_exporter": "python",
   "pygments_lexer": "ipython3",
   "version": "3.12.2"
  }
 },
 "nbformat": 4,
 "nbformat_minor": 5
}
